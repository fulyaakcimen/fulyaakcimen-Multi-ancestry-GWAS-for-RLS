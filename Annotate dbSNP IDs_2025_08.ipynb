{
 "cells": [
  {
   "cell_type": "markdown",
   "id": "37dd5cd0-fe62-4506-989c-a610e1207feb",
   "metadata": {},
   "source": [
    "### Annotate dbSNP ID using gwaslab"
   ]
  },
  {
   "cell_type": "markdown",
   "id": "ea9e47d3-da8c-46d8-bea1-8df1037b5e29",
   "metadata": {},
   "source": [
    "##### Download gwaslab from https://cloufield.github.io/gwaslab/SumstatsObject/"
   ]
  },
  {
   "cell_type": "code",
   "execution_count": null,
   "id": "649c6078-603d-4e76-bf15-fe4846e6fcd4",
   "metadata": {},
   "outputs": [],
   "source": [
    "source myconda\n",
    "mamba activate project1\n",
    "pip install gwaslab"
   ]
  },
  {
   "cell_type": "markdown",
   "id": "efcc73f1-06b8-4211-9587-03112649e41a",
   "metadata": {},
   "source": [
    "##### To be run in a Python environment"
   ]
  },
  {
   "cell_type": "code",
   "execution_count": null,
   "id": "75f067e1-1c49-4257-bbf2-78aa976410c0",
   "metadata": {},
   "outputs": [],
   "source": [
    "import gwaslab as gl\n",
    "mysumstats = gl.Sumstats(\"rls_ukb_eur_sumstat_ci.gz\", snpid=\"MARKERNAME\", chrom=\"CHROMOSOME\", pos=\"POSITION\", ea=\"EA\", nea=\"NEA\", p=\"P\", OR=\"OR\")\n",
    "mysumstats.basic_check()\n",
    "gl.download_ref(\"1kg_dbsnp151_hg38_auto\")\n",
    "mysumstats.assign_rsid(\n",
    "... ref_rsid_tsv = gl.get_path(\"1kg_dbsnp151_hg38_auto\"),\n",
    "... ref_rsid_vcf = \"GCF_000001405.40.gz\",\n",
    "... chr_dict = gl.get_number_to_NC(build=\"38\"),\n",
    "... n_cores = 8)\n",
    "Sun Aug  3 15:31:58 2025 Start to annotate rsID based on chromosome and position information...\n",
    "Sun Aug  3 15:31:58 2025  -Current Dataframe shape : 10296342  x  9\n",
    "Sun Aug  3 15:31:58 2025  -SNPID-rsID text file: /data/akcimenf2/conda/envs/project1/lib/python3.7/site-packages/gwaslab/data/1kg_dbsnp151_hg38_auto.txt.gz\n",
    "Sun Aug  3 15:32:00 2025  -10296342 rsID could be possibly fixed...\n",
    "Sun Aug  3 15:32:01 2025  -Setting block size:  5000000\n",
    "Sun Aug  3 15:32:01 2025  -Loading block: 0   1   2   3   4   5   6   7   8   9   10   11   12   13   \n",
    "Sun Aug  3 15:36:01 2025  -rsID Annotation for 10296342 need to be fixed!\n",
    "Sun Aug  3 16:54:14 2025 Start to assign rsID using vcf...\n",
    "Sun Aug  3 16:54:14 2025  -Current Dataframe shape : 10296342  x  9\n",
    "Sun Aug  3 16:54:14 2025  -CPU Cores to use : 2\n",
    "Sun Aug  3 16:54:14 2025  -Reference VCF file: GCF_000001405.40.gz\n",
    "Sun Aug  3 16:54:14 2025  -Assigning rsID based on chr:pos and ref:alt/alt:ref...\n",
    "Sun Aug  3 20:34:53 2025  -rsID Annotation for 1180242 need to be fixed!\n",
    "Sun Aug  3 20:34:53 2025  -Annotated 9116100 rsID successfully!\n",
    "mysumstats.data.to_csv(\"rls_ukb_eur_sumstat_finalrs.tsv\", sep=\"\\t\", index=False)\n",
    "!grep rs rls_ukb_eur_sumstat_finalrs.tsv > rls_ukb_eur_sumstat_finalrs.tsv_final"
   ]
  },
  {
   "cell_type": "code",
   "execution_count": null,
   "id": "771ebace-e081-48c8-b5e1-dc399b4734d0",
   "metadata": {},
   "outputs": [],
   "source": [
    "import gwaslab as gl\n",
    "mysumstats = gl.Sumstats(\"allofus_afr_sumstat.gz\", snpid=\"MARKERNAME\", chrom=\"CHROMOSOME\", pos=\"POSITION\", ea=\"EA\", nea=\"NEA\", p=\"P\", OR=\"OR\")\n",
    "mysumstats.basic_check()\n",
    "gl.download_ref(\"1kg_dbsnp151_hg38_auto\")\n",
    "mysumstats.assign_rsid(\n",
    "... ref_rsid_tsv = gl.get_path(\"1kg_dbsnp151_hg38_auto\"),\n",
    "... ref_rsid_vcf = \"GCF_000001405.40.gz\",\n",
    "... chr_dict = gl.get_number_to_NC(build=\"38\"),\n",
    "... n_cores = 8)\n",
    "Sun Aug  3 21:40:30 2025 Start to annotate rsID based on chromosome and position information...\n",
    "Sun Aug  3 21:40:30 2025  -Current Dataframe shape : 17246347  x  8\n",
    "Sun Aug  3 21:40:30 2025  -SNPID-rsID text file: /data/akcimenf2/conda/envs/project1/lib/python3.7/site-packages/gwaslab/data/1kg_dbsnp151_hg38_auto.txt.gz\n",
    "Sun Aug  3 21:40:34 2025  -17246347 rsID could be possibly fixed...\n",
    "Sun Aug  3 21:40:36 2025  -Setting block size:  5000000\n",
    "Sun Aug  3 21:40:36 2025  -Loading block: 0   1   2   3   4   5   6   7   8   9   10   11   12   13   \n",
    "Sun Aug  3 21:45:23 2025  -rsID Annotation for 17246347 need to be fixed!\n",
    "Sun Aug  3 21:45:23 2025  -Annotated 0 rsID successfully!\n",
    "Sun Aug  3 21:45:23 2025 Start to assign rsID using vcf...\n",
    "Sun Aug  3 21:45:23 2025  -Current Dataframe shape : 17246347  x  9\n",
    "Sun Aug  3 21:45:23 2025  -CPU Cores to use : 8\n",
    "Sun Aug  3 21:45:23 2025  -Reference VCF file: GCF_000001405.40.gz\n",
    "Sun Aug  3 21:45:23 2025  -Assigning rsID based on chr:pos and ref:alt/alt:ref...\n",
    "Sun Aug  3 22:58:11 2025  -rsID Annotation for 1421461 need to be fixed!\n",
    "Sun Aug  3 22:58:11 2025  -Annotated 15824886 rsID successfully!\n",
    "mysumstats.data.to_csv(\"allofus_afr_finalrs.tsv\", sep=\"\\t\", index=False)\n",
    "!grep rs allofus_afr_finalrs.tsv > allofus_afr_finalrs.tsv_final"
   ]
  },
  {
   "cell_type": "code",
   "execution_count": null,
   "id": "116de60c-1730-44a9-b3b1-15fd4c5ebb3c",
   "metadata": {},
   "outputs": [],
   "source": [
    "import gwaslab as gl\n",
    "mysumstats = gl.Sumstats(\"allofus_amr_sumstat.gz\", snpid=\"MARKERNAME\", chrom=\"CHROMOSOME\", pos=\"POSITION\", ea=\"EA\", nea=\"NEA\", p=\"P\", OR=\"OR\")\n",
    "mysumstats.basic_check()\n",
    "gl.download_ref(\"1kg_dbsnp151_hg38_auto\")\n",
    "mysumstats.assign_rsid(\n",
    "... ref_rsid_tsv = gl.get_path(\"1kg_dbsnp151_hg38_auto\"),\n",
    "... ref_rsid_vcf = \"GCF_000001405.40.gz\",\n",
    "... chr_dict = gl.get_number_to_NC(build=\"38\"),\n",
    "... n_cores = 8)\n",
    "Sun Aug  3 23:25:15 2025 Start to annotate rsID based on chromosome and position information...\n",
    "Sun Aug  3 23:25:15 2025  -Current Dataframe shape : 9940791  x  9\n",
    "Sun Aug  3 23:25:15 2025  -SNPID-rsID text file: /data/akcimenf2/conda/envs/project1/lib/python3.7/site-packages/gwaslab/data/1kg_dbsnp151_hg38_auto.txt.gz\n",
    "Sun Aug  3 23:25:18 2025  -9940791 rsID could be possibly fixed...\n",
    "Sun Aug  3 23:25:19 2025  -Setting block size:  5000000\n",
    "Sun Aug  3 23:25:19 2025  -Loading block: 0   1   2   3   4   5   6   7   8   9   10   11   12   13   \n",
    "Sun Aug  3 23:28:52 2025  -rsID Annotation for 9940791 need to be fixed!\n",
    "Sun Aug  3 23:28:52 2025  -Annotated 0 rsID successfully!\n",
    "Sun Aug  3 23:28:52 2025 Start to assign rsID using vcf...\n",
    "Sun Aug  3 23:28:52 2025  -Current Dataframe shape : 9940791  x  9\n",
    "Sun Aug  3 23:28:52 2025  -CPU Cores to use : 8\n",
    "Sun Aug  3 23:28:52 2025  -Reference VCF file: GCF_000001405.40.gz\n",
    "Sun Aug  3 23:28:52 2025  -Assigning rsID based on chr:pos and ref:alt/alt:ref...\n",
    "Mon Aug  4 00:27:13 2025  -rsID Annotation for 973483 need to be fixed!\n",
    "Mon Aug  4 00:27:13 2025  -Annotated 8967308 rsID successfully!\n",
    "mysumstats.data.to_csv(\"allofus_aMr_finalrs.tsv\", sep=\"\\t\", index=False)\n",
    "!grep rs allofus_aMr_finalrs.tsv > allofus_amr_finalrs.tsv_final"
   ]
  },
  {
   "cell_type": "code",
   "execution_count": null,
   "id": "e359859d-009b-46ec-89d4-bfb610bc6cdb",
   "metadata": {},
   "outputs": [],
   "source": [
    "import gwaslab as gl\n",
    "mysumstats = gl.Sumstats(\"allofus_eur_sumstat.gz\", snpid=\"MARKERNAME\", chrom=\"CHROMOSOME\", pos=\"POSITION\", ea=\"EA\", nea=\"NEA\", p=\"P\", OR=\"OR\")\n",
    "mysumstats.basic_check()\n",
    "gl.download_ref(\"1kg_dbsnp151_hg38_auto\")\n",
    "mysumstats.assign_rsid(\n",
    "... ref_rsid_tsv = gl.get_path(\"1kg_dbsnp151_hg38_auto\"),\n",
    "... ref_rsid_vcf = \"GCF_000001405.40.gz\",\n",
    "... chr_dict = gl.get_number_to_NC(build=\"38\"),\n",
    "... n_cores = 8)\n",
    "Mon Aug  4 00:34:17 2025 Start to annotate rsID based on chromosome and position information...\n",
    "Mon Aug  4 00:34:17 2025  -Current Dataframe shape : 10047826  x  8\n",
    "Mon Aug  4 00:34:17 2025  -SNPID-rsID text file: /data/akcimenf2/conda/envs/project1/lib/python3.7/site-packages/gwaslab/data/1kg_dbsnp151_hg38_auto.txt.gz\n",
    "Mon Aug  4 00:34:20 2025  -10047826 rsID could be possibly fixed...\n",
    "Mon Aug  4 00:34:21 2025  -Setting block size:  5000000\n",
    "Mon Aug  4 00:34:21 2025  -Loading block: 0   1   2   3   4   5   6   7   8   9   10   11   12   13   \n",
    "Mon Aug  4 00:37:58 2025  -rsID Annotation for 10047826 need to be fixed!\n",
    "Mon Aug  4 00:37:58 2025  -Annotated 0 rsID successfully!\n",
    "Mon Aug  4 00:37:58 2025 Start to assign rsID using vcf...\n",
    "Mon Aug  4 00:37:58 2025  -Current Dataframe shape : 10047826  x  9\n",
    "Mon Aug  4 00:37:58 2025  -CPU Cores to use : 8\n",
    "Mon Aug  4 00:37:58 2025  -Reference VCF file: GCF_000001405.40.gz\n",
    "Mon Aug  4 00:37:58 2025  -Assigning rsID based on chr:pos and ref:alt/alt:ref...\n",
    "Mon Aug  4 01:38:42 2025  -rsID Annotation for 893088 need to be fixed!\n",
    "Mon Aug  4 01:38:42 2025  -Annotated 9154738 rsID successfully!\n",
    "mysumstats.data.to_csv(\"allofus_eur_finalrs.tsv\", sep=\"\\t\", index=False)\n",
    "!grep rs allofus_eur_finalrs.tsv > allofus_eur_finalrs.tsv_final"
   ]
  },
  {
   "cell_type": "code",
   "execution_count": null,
   "id": "df9da744-30c5-4a2c-bd8e-0a7cac544794",
   "metadata": {},
   "outputs": [],
   "source": [
    "import gwaslab as gl\n",
    "mysumstats = gl.Sumstats(\"clsa_eur_sumstat.gz\", snpid=\"MARKERNAME\", chrom=\"CHROMOSOME\", pos=\"POSITION\", ea=\"EA\", nea=\"NEA\", p=\"P\", OR=\"OR\")\n",
    "mysumstats.basic_check()\n",
    "gl.download_ref(\"1kg_dbsnp151_hg38_auto\")\n",
    "mysumstats.assign_rsid(\n",
    "... ref_rsid_tsv = gl.get_path(\"1kg_dbsnp151_hg38_auto\"),\n",
    "... ref_rsid_vcf = \"GCF_000001405.40.gz\",\n",
    "... chr_dict = gl.get_number_to_NC(build=\"38\"),\n",
    "... n_cores = 8)\n",
    "Mon Aug  4 09:27:07 2025 Start to annotate rsID based on chromosome and position information...\n",
    "Mon Aug  4 09:27:07 2025  -Current Dataframe shape : 10214384  x  8\n",
    "Mon Aug  4 09:27:07 2025  -SNPID-rsID text file: /data/akcimenf2/conda/envs/project1/lib/python3.7/site-packages/gwaslab/data/1kg_dbsnp151_hg38_auto.txt.gz\n",
    "Mon Aug  4 09:27:09 2025  -10214384 rsID could be possibly fixed...\n",
    "Mon Aug  4 09:27:11 2025  -Setting block size:  5000000\n",
    "Mon Aug  4 09:27:11 2025  -Loading block: 0   1   2   3   4   5   6   7   8   9   10   11   12   13   \n",
    "Mon Aug  4 09:31:04 2025  -rsID Annotation for 10214384 need to be fixed!\n",
    "Mon Aug  4 09:31:04 2025  -Annotated 0 rsID successfully!\n",
    "Mon Aug  4 09:31:04 2025 Start to assign rsID using vcf...\n",
    "Mon Aug  4 09:31:04 2025  -Current Dataframe shape : 10214384  x  9\n",
    "Mon Aug  4 09:31:04 2025  -CPU Cores to use : 8\n",
    "Mon Aug  4 09:31:04 2025  -Reference VCF file: GCF_000001405.40.gz\n",
    "Mon Aug  4 09:31:04 2025  -Assigning rsID based on chr:pos and ref:alt/alt:ref...\n",
    "Mon Aug  4 10:24:26 2025  -rsID Annotation for 120347 need to be fixed!\n",
    "Mon Aug  4 10:24:26 2025  -Annotated 10094037 rsID successfully!\n",
    "mysumstats.data.to_csv(\"clsa_eur_finalrs.tsv\", sep=\"\\t\", index=False)\n",
    "!grep rs clsa_eur_finalrs.tsv > clsa_eur_finalrs.tsv_finalannot"
   ]
  },
  {
   "cell_type": "code",
   "execution_count": null,
   "id": "b90334ff-84bf-4903-b28e-d39bfe6b0baf",
   "metadata": {},
   "outputs": [],
   "source": [
    "import gwaslab as gl\n",
    "mysumstats = gl.Sumstats(\"cartagene_eur_sumstat_cols.gz\", snpid=\"MARKERNAME\", chrom=\"CHROMOSOME\", pos=\"POSITION\", ea=\"EA\", nea=\"NEA\", p=\"P\", OR=\"OR\")\n",
    "mysumstats.basic_check()\n",
    "gl.download_ref(\"1kg_dbsnp151_hg38_auto\")\n",
    "mysumstats.assign_rsid(\n",
    "... ref_rsid_tsv = gl.get_path(\"1kg_dbsnp151_hg38_auto\"),\n",
    "... ref_rsid_vcf = \"GCF_000001405.40.gz\",\n",
    "... chr_dict = gl.get_number_to_NC(build=\"38\"),\n",
    "... n_cores = 8)\n",
    "Tue Aug  5 01:02:53 2025 Start to annotate rsID based on chromosome and position information...\n",
    "Tue Aug  5 01:02:53 2025  -Current Dataframe shape : 10133731  x  8\n",
    "Tue Aug  5 01:02:53 2025  -SNPID-rsID text file: /data/akcimenf2/conda/envs/project1/lib/python3.7/site-packages/gwaslab/data/1kg_dbsnp151_hg38_auto.txt.gz\n",
    "Tue Aug  5 01:02:55 2025  -10133731 rsID could be possibly fixed...\n",
    "Tue Aug  5 01:02:56 2025  -Setting block size:  5000000\n",
    "Tue Aug  5 01:02:56 2025  -Loading block: 0   1   2   3   4   5   6   7   8   9   10   11   12   13   \n",
    "Tue Aug  5 01:06:39 2025  -rsID Annotation for 10133731 need to be fixed!\n",
    "Tue Aug  5 01:06:39 2025  -Annotated 0 rsID successfully!\n",
    "Tue Aug  5 01:06:39 2025 Start to assign rsID using vcf...\n",
    "Tue Aug  5 01:06:39 2025  -Current Dataframe shape : 10133731  x  9\n",
    "Tue Aug  5 01:06:39 2025  -CPU Cores to use : 8\n",
    "Tue Aug  5 01:06:39 2025  -Reference VCF file: GCF_000001405.40.gz\n",
    "Tue Aug  5 01:06:39 2025  -Assigning rsID based on chr:pos and ref:alt/alt:ref...\n",
    "Tue Aug  5 02:12:58 2025  -rsID Annotation for 118665 need to be fixed!\n",
    "Tue Aug  5 02:12:58 2025  -Annotated 10015066 rsID successfully!\n",
    "mysumstats.data.to_csv(\"cartagene_eur_finalrs.tsv\", sep=\"\\t\", index=False)\n",
    "!grep rs cartagene_eur_finalrs.tsv > cartagene_eur_finalrs.tsv_finalannot"
   ]
  },
  {
   "cell_type": "markdown",
   "id": "c798293c-d07c-4194-ac3f-ab448511d0cb",
   "metadata": {},
   "source": [
    "### Annotate dbSNP ID in ancestry-stratified GWAS meta-analyses"
   ]
  },
  {
   "cell_type": "markdown",
   "id": "d1d93e5b-8bf5-41c0-946d-4e36a8eba6f5",
   "metadata": {},
   "source": [
    "### Prepare gwaslab input"
   ]
  },
  {
   "cell_type": "code",
   "execution_count": 8,
   "id": "c7f62948-bb14-439a-aeac-9fcdcd8a5182",
   "metadata": {},
   "outputs": [],
   "source": [
    "awk -v OFS='\\t' -F'\\t' 'NR==1{print $0,\"CHR\",\"POS\";next}{gsub(/\\r/,\"\"); split($1,a,\":\"); c=a[1]; if (tolower(substr(c,1,3))==\"chr\") c=substr(c,4); print $0,c,a[2]}' AUG2025_AFR_META1.tbl \\\n",
    "| awk -F'\\t' 'BEGIN{OFS=\"\\t\"} NR==1{print;next} {d=$7; if (gsub(/\\?/,\"\",d) <= 2) {$2=toupper($2); $3=toupper($3); print}}' \\\n",
    "| gzip -c > AUG2025_AFR_META1.tbl.gz\n",
    "awk -v OFS='\\t' -F'\\t' 'NR==1{print $0,\"CHR\",\"POS\";next}{gsub(/\\r/,\"\"); split($1,a,\":\"); c=a[1]; if (tolower(substr(c,1,3))==\"chr\") c=substr(c,4); print $0,c,a[2]}' AUG2025_AMR_META1.tbl \\\n",
    "| awk -F'\\t' 'BEGIN{OFS=\"\\t\"} NR==1{print;next} {d=$7; if (gsub(/\\?/,\"\",d) <= 2) {$2=toupper($2); $3=toupper($3); print}}' \\\n",
    "| gzip -c > AUG2025_AMR_META1.tbl.gz\n",
    "awk -v OFS='\\t' -F'\\t' 'NR==1{print $0,\"CHR\",\"POS\";next}{gsub(/\\r/,\"\"); split($1,a,\":\"); c=a[1]; if (tolower(substr(c,1,3))==\"chr\") c=substr(c,4); print $0,c,a[2]}' AUG2025_EUR_META1.tbl \\\n",
    "| awk -F'\\t' 'BEGIN{OFS=\"\\t\"} NR==1{print;next} {d=$7; if (gsub(/\\?/,\"\",d) <= 2) {$2=toupper($2); $3=toupper($3); print}}' \\\n",
    "| gzip -c > AUG2025_EUR_META1.tbl.gz"
   ]
  },
  {
   "cell_type": "markdown",
   "id": "e3434353-c89e-456e-a1aa-2469dfa747b0",
   "metadata": {},
   "source": [
    "##### To be run in a Python environment"
   ]
  },
  {
   "cell_type": "code",
   "execution_count": null,
   "id": "60b4f2e4-c350-4416-98a0-f805cd3075f7",
   "metadata": {},
   "outputs": [],
   "source": [
    "import gwaslab as gl\n",
    "import gwaslab as gl\n",
    "mysumstats = gl.Sumstats(\"AUG2025_AFR_META1.tbl.gz\", snpid=\"MarkerName\", chrom=\"CHR\", pos=\"POS\", ea=\"Allele1\", nea=\"Allele2\" ,se=\"StdErr\", p=\"P-value\", beta=\"Effect\")\n",
    "mysumstats.basic_check()\n",
    "gl.download_ref(\"1kg_dbsnp151_hg38_auto\")\n",
    "mysumstats.assign_rsid(\n",
    "       ref_rsid_tsv = gl.get_path(\"1kg_dbsnp151_hg38_auto\"),\n",
    "ref_rsid_vcf = \"GCF_000001405.40.gz\",\n",
    "chr_dict = gl.get_number_to_NC(build=\"38\"),\n",
    "n_cores = 8)\n",
    "mysumstats.data\n",
    "mysumstats.data.to_csv(\"AUG2025_AFR_META1_RS_anno\", sep=\"\\t\", index=False)\n",
    "\n",
    "mysumstats = gl.Sumstats(\"AUG2025_AMR_META1.tbl.gz\", snpid=\"MarkerName\", chrom=\"CHR\", pos=\"POS\", ea=\"Allele1\", nea=\"Allele2\" ,se=\"StdErr\", p=\"P-value\", beta=\"Effect\")\n",
    "mysumstats.basic_check()\n",
    "mysumstats.assign_rsid(\n",
    "       ref_rsid_tsv = gl.get_path(\"1kg_dbsnp151_hg38_auto\"),\n",
    "ref_rsid_vcf = \"GCF_000001405.40.gz\",\n",
    "chr_dict = gl.get_number_to_NC(build=\"38\"),\n",
    "n_cores = 8)\n",
    "mysumstats.data\n",
    "mysumstats.data.to_csv(\"AUG2025_AMR_META1_RS_anno\", sep=\"\\t\", index=False)\n",
    "\n",
    "mysumstats = gl.Sumstats(\"AUG2025_EUR_META1.tbl.gz\", snpid=\"MarkerName\", chrom=\"CHR\", pos=\"POS\", ea=\"Allele1\", nea=\"Allele2\" ,se=\"StdErr\", p=\"P-value\", beta=\"Effect\")\n",
    "mysumstats.data.to_csv(\"AUG2025_EUR_META1_RS_anno\", sep=\"\\t\", index=False)"
   ]
  }
 ],
 "metadata": {
  "kernelspec": {
   "display_name": "Bash",
   "language": "bash",
   "name": "bash"
  },
  "language_info": {
   "codemirror_mode": "shell",
   "file_extension": ".sh",
   "mimetype": "text/x-sh",
   "name": "bash"
  }
 },
 "nbformat": 4,
 "nbformat_minor": 5
}
