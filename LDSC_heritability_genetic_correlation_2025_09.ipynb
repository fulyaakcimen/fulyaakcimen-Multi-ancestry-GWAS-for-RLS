{
 "cells": [
  {
   "cell_type": "markdown",
   "id": "f9fe9ef3-57cc-4bc9-bead-175a3ffa4d56",
   "metadata": {},
   "source": [
    "### LDSC heritability estimates and cohort-level inflation checks"
   ]
  },
  {
   "cell_type": "markdown",
   "id": "d450c367-7610-4983-a792-02347d99fd90",
   "metadata": {},
   "source": [
    "#### Prepare input summary statistics files"
   ]
  },
  {
   "cell_type": "code",
   "execution_count": 72,
   "id": "84fe594b-6d09-4f42-90dd-8f2074e502eb",
   "metadata": {},
   "outputs": [
    {
     "name": "stdout",
     "output_type": "stream",
     "text": [
      "CHR\tPOS\tEA\tNEA\tP\tOR\tSTATUS\trsID\n",
      "1\t98749\tC\tT\t0.22516\t0.916979\t9960099\trs377378992\n"
     ]
    }
   ],
   "source": [
    "cut -f2-9 rls_ukb_eur_sumstat_finalrs.tsv_final | head -2\n",
    "cut -f2-9 rls_ukb_eur_sumstat_finalrs.tsv_final > rls_ukb_eur_sumstat_finalrs.tsv_final_tomunge\n",
    "cut -f2-9 cartagene_eur_finalrs.tsv_finalannot > cartagene_eur_finalrs.tsv_final_tomunge\n",
    "cut -f2-9 clsa_eur_finalrs.tsv_finalannot > clsa_eur_finalrs.tsv_finalannot_final_tomunge\n",
    "cut -f2-9 allofus_eur_finalrs.tsv_final > allofus_eur_finalrs.tsv_final_tomunge\n",
    "cut -f2-9 allofus_afr_finalrs.tsv > allofus_afr_finalrs.tsv_final_tomunge\n",
    "cut -f2-9 allofus_aMr_finalrs.tsv > allofus_amr_finalrs.tsv_final_tomunge\n",
    "cut -f2-9 AFR_GCST90477503_filt_BETASE_markername > AFR_GCST90477503_filt_BETASE_markername_tomunge\n",
    "cut -f1-13 GCST90475828_filt_BETASE_pos_markeradd  > GCST90475828_filt_BETASE_pos_markeradd_tomunge \n",
    "cut -f1-13 EUR_GCST90475829_filt_filt_BETASE_markername > EUR_GCST90475829_filt_filt_BETASE_markername_tomunge"
   ]
  },
  {
   "cell_type": "markdown",
   "id": "5de47d81-b579-4e86-aed4-7fed0523c92e",
   "metadata": {},
   "source": [
    "#### Download previous EUR GWAS results"
   ]
  },
  {
   "cell_type": "code",
   "execution_count": 1,
   "id": "19ef6669-4fcf-42ce-b147-b396b654dffa",
   "metadata": {},
   "outputs": [],
   "source": [
    "# wget http://ftp.ebi.ac.uk/pub/databases/gwas/summary_statistics/GCST90399001-GCST90400000/GCST90399568/harmonised/GCST90399568.h.tsv.gz\n",
    "zcat GCST90399568.h.tsv.gz | awk 'BEGIN{OFS=\"\\t\"} NR==1 {print \"CHR\",\"POS\",\"EA\",\"NEA\",\"P\",\"BETA\",\"rsID\"} NR>1 {print $1,$2,$3,$4,$8,$5,$9}'  > GCST90399568_formatted.tsv"
   ]
  },
  {
   "cell_type": "code",
   "execution_count": 2,
   "id": "a7eec1be-a685-44cc-80b8-2e0c559de401",
   "metadata": {},
   "outputs": [
    {
     "name": "stdout",
     "output_type": "stream",
     "text": [
      "[+] Loading singularity  4.2.2  on cn3141 \n",
      "[+] Loading ldsc, version 1.0.1-20200724...\n"
     ]
    }
   ],
   "source": [
    "module load ldsc/1.0.1-20200724"
   ]
  },
  {
   "cell_type": "markdown",
   "id": "67aa5fae-2d3d-4aa9-9ab2-fa8bd3adc890",
   "metadata": {},
   "source": [
    "#### Download and prepare UKB reference files"
   ]
  },
  {
   "cell_type": "code",
   "execution_count": null,
   "id": "be9da938-a600-4a93-8388-9fef190ceddf",
   "metadata": {},
   "outputs": [],
   "source": [
    "#ls UKBB.ALL.ldscore.tar.gz\n",
    "tar -xvzf UKBB.ALL.ldscore.tar.gz\n",
    "mkdir afr_ldscores\n",
    "cp UKBB.ALL.ldscore/UKBB.AFR.8LDMS.rsid.l2.ldscore.gz afr_ldscores/\n",
    "cp UKBB.ALL.ldscore/UKBB.AFR.8LDMS.rsid.l2.annot.gz afr_ldscores/\n",
    "zcat UKBB.ALL.ldscore/UKBB.AFR.8LDMS.rsid.l2.ldscore.gz | \\\n",
    "awk 'BEGIN {OFS=\"\\t\"} NR==1 {print $1, $2, $3, \"L2\"} NR>1 {print $1, $2, $3, $4}' | \\\n",
    "gzip > UKBB.ALL.ldscore/UKBB.AFR.8LDMS.rsid.l2.weight.l2.ldscore.gz\n",
    "\n",
    "zcat UKBB.ALL.ldscore/UKBB.AFR.rsid.l2.ldscore.gz | awk 'NR > 1 {print $2}' > afr_rsid_list.txt\n",
    "zcat munged_MVA_afr_only_finalrs.tsv_final.sumstats.gz | awk '{print $1\"\\t\"$2\"\\t\"$3}' | grep -Ff afr_rsid_list.txt > tmp.txt\n",
    "(echo -e \"SNP\\tA1\\tA2\"; cat tmp.txt) > afr_merge_alleles.txt\n",
    "awk 'NF == 3 && $2 ~ /^[ACGT]$/ && $3 ~ /^[ACGT]$/' afr_merge_alleles.txt > tmp_clean.txt\n",
    "(echo -e \"SNP\\tA1\\tA2\"; cat tmp_clean.txt) > afr_merge_alleles_clean.txt\n",
    "head -3 afr_merge_alleles_clean.txt\n",
    "wc -l afr_merge_alleles_clean.txt\n",
    "\n",
    "zcat UKBB.ALL.ldscore/UKBB.AMR.rsid.l2.ldscore.gz | awk 'NR > 1 {print $2}' > amr_rsid_list.txt\n",
    "zcat munged_MVA_amr_only_finalrs.tsv_final.sumstats.gz | awk '{print $1\"\\t\"$2\"\\t\"$3}' | grep -Ff amr_rsid_list.txt > tmp2.txt\n",
    "(echo -e \"SNP\\tA1\\tA2\"; cat tmp2.txt) > amr_merge_alleles.txt\n",
    "awk 'NF == 3 && $2 ~ /^[ACGT]$/ && $3 ~ /^[ACGT]$/' amr_merge_alleles.txt > tmp2_clean.txt\n",
    "(echo -e \"SNP\\tA1\\tA2\"; cat tmp2_clean.txt) > amr_merge_alleles_clean.txt\n",
    "head -3 amr_merge_alleles_clean.txt\n",
    "wc -l amr_merge_alleles_clean.txt"
   ]
  },
  {
   "cell_type": "markdown",
   "id": "ef44c0f6-9019-475e-935e-49a73f17173b",
   "metadata": {},
   "source": [
    "#### Prepare and munge each GWAS summary statistic"
   ]
  },
  {
   "cell_type": "code",
   "execution_count": 48,
   "id": "59be00cc-84e1-4104-b96c-63c1d23eef2c",
   "metadata": {},
   "outputs": [
    {
     "name": "stdout",
     "output_type": "stream",
     "text": [
      "*********************************************************************\n",
      "* LD Score Regression (LDSC)\n",
      "* Version 1.0.1\n",
      "* (C) 2014-2019 Brendan Bulik-Sullivan and Hilary Finucane\n",
      "* Broad Institute of MIT and Harvard / MIT Department of Mathematics\n",
      "* GNU General Public License v3\n",
      "*********************************************************************\n",
      "Call: \n",
      "./munge_sumstats.py \\\n",
      "--out munged_rls_ukb_eur_sumstat_finalrs.tsv_final \\\n",
      "--merge-alleles w_hm3.snplist \\\n",
      "--N-con 106479.0 \\\n",
      "--chunksize 500000 \\\n",
      "--N-cas 7317.0 \\\n",
      "--a1 EA \\\n",
      "--a2 NEA \\\n",
      "--snp rsID \\\n",
      "--sumstats rls_ukb_eur_sumstat_finalrs.tsv_final_tomunge \n",
      "\n",
      "Interpreting column names as follows:\n",
      "P:\tp-Value\n",
      "rsID:\tVariant ID (e.g., rs number)\n",
      "EA:\tAllele 1, interpreted as ref allele for signed sumstat.\n",
      "OR:\tOdds ratio (1 --> no effect; above 1 --> A1 is risk increasing)\n",
      "NEA:\tAllele 2, interpreted as non-ref allele for signed sumstat.\n",
      "\n",
      "Reading list of SNPs for allele merge from w_hm3.snplist\n",
      "Read 1217311 SNPs for allele merge.\n",
      "Reading sumstats from rls_ukb_eur_sumstat_finalrs.tsv_final_tomunge into memory 500000 SNPs at a time.\n",
      "................... done\n",
      "Read 9116100 SNPs from --sumstats file.\n",
      "Removed 8003677 SNPs not in --merge-alleles.\n",
      "Removed 0 SNPs with missing values.\n",
      "Removed 0 SNPs with INFO <= 0.9.\n",
      "Removed 0 SNPs with MAF <= 0.01.\n",
      "Removed 0 SNPs with out-of-bounds p-values.\n",
      "Removed 324 variants that were not SNPs or were strand-ambiguous.\n",
      "1112099 SNPs remain.\n",
      "Removed 363 SNPs with duplicated rs numbers (1111736 SNPs remain).\n",
      "Median value of OR was 0.999811, which seems sensible.\n",
      "Removed 208 SNPs whose alleles did not match --merge-alleles (1111528 SNPs remain).\n",
      "Writing summary statistics for 1217311 SNPs (1111528 with nonmissing beta) to munged_rls_ukb_eur_sumstat_finalrs.tsv_final.sumstats.gz.\n",
      "\n",
      "Metadata:\n",
      "Mean chi^2 = 1.146\n",
      "Lambda GC = 1.106\n",
      "Max chi^2 = 367.451\n",
      "232 Genome-wide significant SNPs (some may have been removed by filtering).\n",
      "\n",
      "Conversion finished at Wed Aug 20 23:39:41 2025\n",
      "Total time elapsed: 53.96s\n"
     ]
    }
   ],
   "source": [
    "#EUR_GWAS included\n",
    "munge_sumstats.py --sumstats rls_ukb_eur_sumstat_finalrs.tsv_final_tomunge --N-cas 7317 --N-con 106479 \\\n",
    "--snp rsID --a1 EA --a2 NEA --merge-alleles w_hm3.snplist --out munged_rls_ukb_eur_sumstat_finalrs.tsv_final --chunksize 500000 \n",
    "munge_sumstats.py --sumstats allofus_eur_finalrs.tsv_final_tomunge --N-cas 8300 --N-con 86961 \\\n",
    "--snp rsID --a1 EA --a2 NEA --merge-alleles w_hm3.snplist --out munged_allofus_eur_finalrs.tsv_final --chunksize 500000 \n",
    "munge_sumstats.py --sumstats EUR_GCST90475829_filt_filt_BETASE_markername_tomunge --N-cas 15475 --N-con 428445 --ignore OR,MARKERNAME \\\n",
    "--snp rsID --a1 EA --a2 NEA --merge-alleles w_hm3.snplist --out munged_MVA_eur_only_finalrs.tsv_final --chunksize 500000 \n",
    "munge_sumstats.py --sumstats clsa_eur_finalrs.tsv_finalannot_final_tomunge --N-cas 4980 --N-con 15990 \\\n",
    "--snp rsID --a1 EA --a2 NEA --merge-alleles w_hm3.snplist --out munged_clsa_eur_finalrs.tsv_final --chunksize 500000 \n",
    "munge_sumstats.py --sumstats cartagene_eur_finalrs.tsv_final_tomunge --N-cas 921 --N-con 1307 \\\n",
    "--snp rsID --a1 EA --a2 NEA --merge-alleles w_hm3.snplist --out munged_cartagene_eur_finalrs.tsv_final --chunksize 500000\n",
    "\n",
    "#EUR_2024_RLS_GWAS (Schormair et al)\n",
    "munge_sumstats.py --sumstats GCST90399568_formatted.tsv --N-cas 7248 --N-con 19802 \\\n",
    "--snp rsID --a1 EA --a2 NEA --merge-alleles w_hm3.snplist --out munged_2024_EUR_RLS_final --chunksize 500000 \n",
    "\n",
    "#AFR_GWAS\n",
    "munge_sumstats.py --sumstats allofus_afr_finalrs.tsv_final_tomunge --N-cas 873 --N-con 33876  \\\n",
    "--snp rsID --a1 EA --a2 NEA --merge-alleles afr_merge_alleles_clean.txt --out munged_allofus_afr_finalrs.tsv_final --chunksize 500000 \n",
    "munge_sumstats.py --sumstats MVA_afr_only_finalrs.tsv_finalannot_tomunge --N-cas 1303 --N-con 119437 \\\n",
    "--snp rsID --a1 EA --a2 NEA --merge-alleles afr_merge_alleles_clean.txt --out munged_MVA_afr_only_finalrs.tsv_final --chunksize 500000 \n",
    "\n",
    "#AMR_GWAS\n",
    "munge_sumstats.py --sumstats allofus_amr_finalrs.tsv_final_tomunge --N-cas 876 --N-con 33909 \\\n",
    "--snp rsID --a1 EA --a2 NEA --merge-alleles amr_merge_alleles_clean.txt --out munged_allofus_amr_finalrs.tsv_final --chunksize 500000 \n",
    "munge_sumstats.py --sumstats GCST90475828_filt_BETASE_pos_markeradd_tomunge  --N-cas 1148 --N-con 57993 --ignore OR,MARKERNAME \\\n",
    "--snp rsID --a1 EA --a2 NEA --merge-alleles amr_merge_alleles_clean.txt --out munged_MVA_amr_only_finalrs.tsv_final --chunksize 500000"
   ]
  },
  {
   "cell_type": "code",
   "execution_count": 13,
   "id": "f24210e3-7bb2-4d10-8cb1-69ab284c5e1c",
   "metadata": {
    "scrolled": true
   },
   "outputs": [
    {
     "name": "stdout",
     "output_type": "stream",
     "text": [
      "-rw-r----- 1 akcimenf2 CARD_AUX 8.1M Aug 20 21:42 munged_MVA_afr_only_finalrs.tsv_final.sumstats.gz\n",
      "-rw-r----- 1 akcimenf2 CARD_AUX 8.1M Aug 20 21:48 munged_MVA_amr_only_finalrs.tsv_final.sumstats.gz\n",
      "-rw-r----- 1 akcimenf2 CARD_AUX 8.4M Aug 20 21:20 munged_MVA_eur_only_finalrs.tsv_final.sumstats.gz\n",
      "-rw-r----- 1 akcimenf2 CARD_AUX 6.3M Aug  7 17:34 munged_afrmeta_finalrs.tsv_final.sumstats.gz\n",
      "-rw-r----- 1 akcimenf2 CARD_AUX 8.1M Aug 20 21:38 munged_allofus_afr_finalrs.tsv_final.sumstats.gz\n",
      "-rw-r----- 1 akcimenf2 CARD_AUX 7.7M Aug 20 21:44 munged_allofus_amr_finalrs.tsv_final.sumstats.gz\n",
      "-rw-r----- 1 akcimenf2 CARD_AUX 8.4M Aug 20 21:28 munged_allofus_eur_finalrs.tsv_final.sumstats.gz\n",
      "-rw-r----- 1 akcimenf2 CARD_AUX 7.9M Aug  7 00:48 munged_amrmeta_finalrs.tsv_final.sumstats.gz\n",
      "-rw-r----- 1 akcimenf2 CARD_AUX 8.3M Aug 20 21:26 munged_cartagene_eur_finalrs.tsv_final.sumstats.gz\n",
      "-rw-r----- 1 akcimenf2 CARD_AUX 8.4M Aug 20 21:24 munged_clsa_eur_finalrs.tsv_final.sumstats.gz\n",
      "-rw-r----- 1 akcimenf2 CARD_AUX 8.2M Aug 20 21:17 munged_rls_ukb_eur_sumstat_finalrs.tsv_final.sumstats.gz\n"
     ]
    }
   ],
   "source": [
    "ls -lh munged*gz "
   ]
  },
  {
   "cell_type": "markdown",
   "id": "ba9dc99c-7f65-467a-a433-3fed5d3c8b29",
   "metadata": {},
   "source": [
    "#### Heritability analysis across EUR cohorts"
   ]
  },
  {
   "cell_type": "code",
   "execution_count": 53,
   "id": "a3a1fadb-910b-4094-8991-c921583160c9",
   "metadata": {},
   "outputs": [
    {
     "name": "stdout",
     "output_type": "stream",
     "text": [
      "*********************************************************************\n",
      "* LD Score Regression (LDSC)\n",
      "* Version 1.0.1\n",
      "* (C) 2014-2019 Brendan Bulik-Sullivan and Hilary Finucane\n",
      "* Broad Institute of MIT and Harvard / MIT Department of Mathematics\n",
      "* GNU General Public License v3\n",
      "*********************************************************************\n",
      "Call: \n",
      "./ldsc.py \\\n",
      "--h2 munged_MVA_eur_only_finalrs.tsv_final.sumstats.gz \\\n",
      "--ref-ld-chr eur_w_ld_chr/ \\\n",
      "--out munged_MVA_eur \\\n",
      "--pop-prev 0.06 \\\n",
      "--samp-prev 0.035 \\\n",
      "--w-ld-chr eur_w_ld_chr/ \n",
      "\n",
      "Beginning analysis at Wed Aug 20 23:53:21 2025\n",
      "Reading summary statistics from munged_MVA_eur_only_finalrs.tsv_final.sumstats.gz ...\n",
      "Read summary statistics for 1185653 SNPs.\n",
      "Reading reference panel LD Score from eur_w_ld_chr/[1-22] ... (ldscore_fromlist)\n",
      "Read reference panel LD Scores for 1290028 SNPs.\n",
      "Removing partitioned LD Scores with zero variance.\n",
      "Reading regression weight LD Score from eur_w_ld_chr/[1-22] ... (ldscore_fromlist)\n",
      "Read regression weight LD Scores for 1290028 SNPs.\n",
      "After merging with reference panel LD, 1174973 SNPs remain.\n",
      "After merging with regression SNP LD, 1174973 SNPs remain.\n",
      "Using two-step estimator with cutoff at 30.\n",
      "/opt/ldsc/ldscore/irwls.py:161: FutureWarning: `rcond` parameter will change to the default of machine precision times ``max(M, N)`` where M and N are the input matrix dimensions.\n",
      "To use the future default and silence this warning we advise to pass `rcond=None`, to keep using the old, explicitly pass `rcond=-1`.\n",
      "  coef = np.linalg.lstsq(x, y)\n",
      "Total Liability scale h2: 0.1475 (0.0153)\n",
      "Lambda GC: 1.2201\n",
      "Mean Chi^2: 1.294\n",
      "Intercept: 1.1071 (0.0081)\n",
      "Ratio: 0.3642 (0.0274)\n",
      "Analysis finished at Wed Aug 20 23:53:35 2025\n",
      "Total time elapsed: 14.37s\n"
     ]
    }
   ],
   "source": [
    "ldsc.py --h2 munged_rls_ukb_eur_sumstat_finalrs.tsv_final.sumstats.gz \\\n",
    "--ref-ld-chr eur_w_ld_chr/ --w-ld-chr eur_w_ld_chr/ --out ukb_current --samp-prev 0.0643 --pop-prev 0.0644\n",
    "ldsc.py --h2 munged_allofus_eur_finalrs.tsv_final.sumstats.gz \\\n",
    "--ref-ld-chr eur_w_ld_chr/ --w-ld-chr eur_w_ld_chr/ --out munged_allofus_eur --samp-prev 0.087 --pop-prev 0.05\n",
    "ldsc.py --h2 munged_MVA_eur_only_finalrs.tsv_final.sumstats.gz \\\n",
    "--ref-ld-chr eur_w_ld_chr/ --w-ld-chr eur_w_ld_chr/ --out munged_MVA_eur --samp-prev 0.035 --pop-prev 0.05\n",
    "ldsc.py --h2 munged_clsa_eur_finalrs.tsv_final.sumstats.gz \\\n",
    "--ref-ld-chr eur_w_ld_chr/ --w-ld-chr eur_w_ld_chr/ --out munged_clsa_eur --samp-prev 0.24 --pop-prev 0.06\n",
    "ldsc.py --h2 munged_cartagene_eur_finalrs.tsv_final.sumstats.gz \\\n",
    "--ref-ld-chr eur_w_ld_chr/ --w-ld-chr eur_w_ld_chr/ --out munged_cartagene_eur --samp-prev 0.41 --pop-prev 0.06"
   ]
  },
  {
   "cell_type": "code",
   "execution_count": 26,
   "id": "4de80004-7417-490b-9494-461976983e1c",
   "metadata": {},
   "outputs": [
    {
     "name": "stdout",
     "output_type": "stream",
     "text": [
      "18832804\n",
      "12403012\n",
      "9350470\n"
     ]
    }
   ],
   "source": [
    "#Ancestry-stratified meta-analyses\n",
    "zcat AUG2025_AFR_META1.tbl.gz | wc -l\n",
    "zcat AUG2025_AMR_META1.tbl.gz | wc -l\n",
    "zcat AUG2025_EUR_META1.tbl.gz | wc -l"
   ]
  },
  {
   "cell_type": "code",
   "execution_count": 29,
   "id": "79809786-04a5-4ed9-8847-0d43a8615c81",
   "metadata": {},
   "outputs": [
    {
     "name": "stdout",
     "output_type": "stream",
     "text": [
      "18832804 AUG2025_AFR_META1_RS_anno\n",
      "12403012 AUG2025_AMR_META1_RS_anno\n",
      "9350466 AUG2025_EUR_META1_RS_anno\n",
      "==> AUG2025_AFR_META1_RS_anno <==\n",
      "SNPID\tCHR\tPOS\tEA\tNEA\tBETA\tSE\tP\tSTATUS\trsID\n",
      "chr11:12541586:A:G\t11\t12541586\tA\tG\t0.0239\t0.0334\t0.4751\t9960099\trs1426593\n",
      "\n",
      "==> AUG2025_AMR_META1_RS_anno <==\n",
      "SNPID\tCHR\tPOS\tEA\tNEA\tBETA\tSE\tP\tSTATUS\trsID\n",
      "chr11:12541586:A:G\t11\t12541586\tA\tG\t0.0017\t0.0333\t0.9598\t9960099\trs1426593\n",
      "\n",
      "==> AUG2025_EUR_META1_RS_anno <==\n",
      "SNPID\tCHR\tPOS\tEA\tNEA\tBETA\tSE\tP\tSTATUS\trsID\n",
      "chr11:12541586:A:G\t11\t12541586\tA\tG\t-0.0076\t0.0084\t0.3643\t9960099\trs1426593\n"
     ]
    }
   ],
   "source": [
    "wc -l AUG2025_AFR_META1_RS_anno\n",
    "wc -l AUG2025_AMR_META1_RS_anno\n",
    "wc -l AUG2025_EUR_META1_RS_anno\n",
    "head -2 AUG2025_*R_META1_RS_anno"
   ]
  },
  {
   "cell_type": "markdown",
   "id": "d56eb713-00d6-4f12-9991-4da34dad3b00",
   "metadata": {},
   "source": [
    "### Munge meta-analyses (λ and λ1000)"
   ]
  },
  {
   "cell_type": "code",
   "execution_count": 39,
   "id": "7444eab2-3612-48e5-a5d8-f0a5d24b37cc",
   "metadata": {},
   "outputs": [],
   "source": [
    "munge_sumstats.py --sumstats AUG2025_AFR_META1_RS_anno --N-cas 2176 --N-con 153313 --maf-min 0.01 --snp rsID \\\n",
    "--ignore SNPID --a1 EA --a2 NEA --merge-alleles afr_merge_alleles_clean.txt --out munged_afrmeta_finalrs.tsv_final --chunksize 500000\n",
    "\n",
    "munge_sumstats.py --sumstats AUG2025_AMR_META1_RS_anno --N-cas 2024 --N-con 91902 --maf-min 0.01 --snp rsID \\\n",
    "--ignore SNPID --a1 EA --a2 NEA --merge-alleles amr_merge_alleles_clean.txt --out munged_amrmeta_finalrs.tsv_final --chunksize 500000 \n",
    "\n",
    "munge_sumstats.py --sumstats AUG2025_EUR_META1_RS_anno --N-cas 36993 --N-con 639182 --maf-min 0.01 --snp rsID \\\n",
    "--ignore SNPID --a1 EA --a2 NEA --merge-alleles w_hm3.snplist --out munged_eurmeta_finalrs.tsv_final --chunksize 500000 "
   ]
  },
  {
   "cell_type": "markdown",
   "id": "24ce2187-8803-43f4-bc6d-717b269d7502",
   "metadata": {},
   "source": [
    "### Heritability analysis across AFR, AMR, and EUR meta-analyses"
   ]
  },
  {
   "cell_type": "code",
   "execution_count": 58,
   "id": "1f12220e-e910-40da-a858-38b644772f19",
   "metadata": {},
   "outputs": [],
   "source": [
    "ldsc.py --h2 munged_afrmeta_finalrs.tsv_final.sumstats.gz --ref-ld UKBB.ALL.ldscore/UKBB.AFR.rsid   \\\n",
    "--w-ld UKBB.ALL.ldscore/UKBB.AFR.rsid --out munged_meta_afr  --print-coefficients --samp-prev 0.014 --pop-prev 0.009\n",
    "\n",
    "ldsc.py --h2 munged_amrmeta_finalrs.tsv_final.sumstats.gz --ref-ld UKBB.ALL.ldscore/UKBB.AMR.rsid   \\\n",
    "--w-ld UKBB.ALL.ldscore/UKBB.AMR.rsid --out munged_meta_amr  --print-coefficients --samp-prev 0.022 --pop-prev 0.009\n",
    "\n",
    "ldsc.py --h2 munged_eurmeta_finalrs.tsv_final.sumstats.gz --ref-ld-chr eur_w_ld_chr/   \\\n",
    "#--w-ld-chr eur_w_ld_chr/ --out munged_meta_eur  --print-coefficients --samp-prev 0.055 --pop-prev 0.05"
   ]
  }
 ],
 "metadata": {
  "kernelspec": {
   "display_name": "Bash",
   "language": "bash",
   "name": "bash"
  },
  "language_info": {
   "codemirror_mode": "shell",
   "file_extension": ".sh",
   "mimetype": "text/x-sh",
   "name": "bash"
  }
 },
 "nbformat": 4,
 "nbformat_minor": 5
}
