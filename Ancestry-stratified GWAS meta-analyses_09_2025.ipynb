{
 "cells": [
  {
   "cell_type": "markdown",
   "id": "1c541ed1-44cd-4874-99a0-93f9dd4a9b2f",
   "metadata": {},
   "source": [
    "## Ancestry-stratified GWAS meta-analyses"
   ]
  },
  {
   "cell_type": "markdown",
   "id": "5f9e3f16-a749-40a9-bbdf-172f1b9ec5a6",
   "metadata": {},
   "source": [
    "### List of GWAS datasets"
   ]
  },
  {
   "cell_type": "code",
   "execution_count": 1,
   "id": "fb15b5d7-c61f-4cdf-8ea9-ffd302be3a3f",
   "metadata": {},
   "outputs": [
    {
     "name": "stdout",
     "output_type": "stream",
     "text": [
      "Cohort (and reference)                                      | Filename\n",
      "------------------------------------------------------------|--------------------------------------------------------------------------------\n",
      "All of Us AFR (current study)                               | allofus_afr_sumstat.gz                           | 873 cases, 33876 controls\n",
      "MVP African American or Afro-Caribbean (Verma et al, 2024)  | AFR_GCST90477503_filt_BETASE_markername\t       | 1303 cases, 119437 controls\n",
      "All of Us AMR (current study)                               | allofus_amr_sumstat.gz                           | 876 cases, 33909 controls\n",
      "MVP Hispanic or Latin American (Verma et al, 2024)          | GCST90475828_filt_BETASE_pos_markeradd           | 1148 cases, 57993 controls\n",
      "All of Us EUR (current study)                               | allofus_eur_sumstat.gz                           | 8300 cases, 86961 controls\n",
      "UK Biobank (current study)                                  | rls_ukb_eur_sumstat_ci.gz                        | 7317 cases, 106479 controls\n",
      "CARTaGENE (Akcimen et al, 2023)                             | cartagene_eur_sumstat_cols.gz                    | 921 cases, 1307 controls\n",
      "Canadian Longitudinal Study on Aging (Akcimen et al, 2023)  | clsa_eur_sumstat.gz                              | 4980 cases, 15990 controls\n",
      "MVP European (Verma et al, 2024)                            | EUR_GCST90475829_filt_filt_BETASE_markername     | 15475 cases, 428445 controls\n"
     ]
    }
   ],
   "source": [
    "cat GWAS_datasets"
   ]
  },
  {
   "cell_type": "markdown",
   "id": "b6ab0556-57cd-4e0f-8c70-09164a7caa88",
   "metadata": {},
   "source": [
    "### Create plink files for All of Us African, Latin American, and European cohorts"
   ]
  },
  {
   "cell_type": "code",
   "execution_count": null,
   "id": "b77cb9d4-6e3a-4beb-8c25-7f3f0ff81c69",
   "metadata": {},
   "outputs": [],
   "source": [
    "plink2 --bgen bgen_file_chr\"$i\".bgen ref-first --sample rls_sample --maf 0.0099 --keep-fam afr_cohort_upd \\\n",
    "--make-pgen --out chr\"$i\"_afr_cohort --threads 8 \n",
    "plink2 --bgen bgen_file_chr\"$i\".bgen ref-first --sample rls_sample --maf 0.0099 --keep-fam amr_cohort_upd \\\n",
    "--make-pgen --out chr\"$i\"_amr_cohort --threads 8\n",
    "plink2 --bgen bgen_file_chr\"$i\".bgen ref-first --sample rls_sample --maf 0.0099 --keep-fam eur_cohort_upd \\\n",
    "--make-pgen --out chr\"$i\"_afr_cohort --threads 8"
   ]
  },
  {
   "cell_type": "markdown",
   "id": "5a8e0e60-41dd-4d52-bae2-8503551883d7",
   "metadata": {},
   "source": [
    "### Individual GWAS runs for All of Us and UK Biobank"
   ]
  },
  {
   "cell_type": "code",
   "execution_count": null,
   "id": "4c288176-c2a8-40c1-ae49-1765b633570a",
   "metadata": {},
   "outputs": [],
   "source": [
    "plink2 --pfile chr\"$i\"_afr_cohort --pheno RLS_covars_afr_recoded_pheno --pheno-name pheno --covar RLS_covars_afr_recoded_pheno  \\\n",
    " --covar-name sex,age,PC1,PC2,PC3,PC4,PC5,PC6,PC7,PC8,PC9,PC10 \\\n",
    " --glm firth-fallback  --covar-variance-standardize --out chr\"$i\"_afr --threads 8 \\\n",
    " --hwe 1e-6 --geno 0.05"
   ]
  },
  {
   "cell_type": "markdown",
   "id": "3f53ce51-b6b7-4e35-9ada-5de11e803be7",
   "metadata": {},
   "source": [
    "#### Post QC on Million Veteran Program GWAS included filtering out unrealistic standard errors (SE)\n",
    "#### Keep header, drop rows with invalid SE"
   ]
  },
  {
   "cell_type": "code",
   "execution_count": 2,
   "id": "cc40d28f-9d67-43fb-82c9-1d261f50ae49",
   "metadata": {},
   "outputs": [],
   "source": [
    "#Example AFR cohort\n",
    "zcat GCST90477503.tsv.gz \\\n",
    "| awk -F'\\t' 'NR==1{print $0 \"\\tSE_est\"; next} $10!=\"#NA\" && $11!=\"#NA\" && $10>0 && $11>0 {se=(log($10)-log($11))/(2*1.96); if(se>0 && se<10) print $0 \"\\t\" se}' OFS='\\t' \\\n",
    "| gzip -c > AFR_GCST90477503_filt.tsv.gz"
   ]
  },
  {
   "cell_type": "code",
   "execution_count": 3,
   "id": "bf0cf148-117b-4fea-868d-e2bee2aa6efa",
   "metadata": {},
   "outputs": [
    {
     "name": "stdout",
     "output_type": "stream",
     "text": [
      "rsID\tCHR\tPOS\tEA\tNEA\tBETA\tSE\tP\tOR\tOR_95L\tOR_95U\tSTATUS MARKERNAME\n",
      "rs545426917\t1\t66381.0\tTATATA\tT\t0.586118607801422\t0.3174775402680828\t0.06506\t1.797\t0.9642\t3.348\t9999999 chr1:66381:TATATA:T\n",
      "rsID\tCHR\tPOS\tEA\tNEA\tBETA\tSE\tP\tOR\tOR_95L\tOR_95U\tSTATUS\tMARKERNAME\n",
      "rs144572927\t1\t701595.0\tG\tA\t-0.07407720339631574\t0.3625852505828755\t0.8381\t0.9286\t0.4561\t1.89\t9999999\tchr1:701595:G:A\n",
      "rsID\tCHR\tPOS\tEA\tNEA\tBETA\tSE\tP\tOR\tOR_95L\tOR_95U\tSTATUS\tMARKERNAME\n",
      "rs201222573\t1\t756164.0\tT\tA\t0.01291622526654623\t0.02265798846459139\t0.5551\t1.013\t0.9698\t1.059\t9999999\tchr1:756164:T:A\n"
     ]
    }
   ],
   "source": [
    "head -2 AFR_GCST90477503_filt_BETASE_markername\n",
    "head -2 GCST90475828_filt_BETASE_pos_markeradd\n",
    "head -2 EUR_GCST90475829_filt_filt_BETASE_markername"
   ]
  },
  {
   "cell_type": "markdown",
   "id": "cdaed317-71b4-49f5-a233-ddf9270eb0c2",
   "metadata": {},
   "source": [
    "### Ancestry-stratified GWAS meta-analyses"
   ]
  },
  {
   "cell_type": "code",
   "execution_count": null,
   "id": "bf420a5f-d740-4306-8ef0-cd53d2c4ea03",
   "metadata": {},
   "outputs": [],
   "source": [
    "module load metal/2020-05-05\n",
    "metal"
   ]
  },
  {
   "cell_type": "markdown",
   "id": "7670d47f-151a-44b3-b4fc-55030510457a",
   "metadata": {},
   "source": [
    "#### European meta-analysis"
   ]
  },
  {
   "cell_type": "code",
   "execution_count": null,
   "id": "13bc3afe-1f00-4b5b-8806-10b465f7a0a4",
   "metadata": {},
   "outputs": [],
   "source": [
    "MARKERLABEL MARKERNAME\n",
    "## Set marker header to MARKERNAME ...\n",
    "ALLELELABELS EA NEA\n",
    "## Set allele headers to EA and NEA ...\n",
    "EFFECTLABEL LOG(OR)\n",
    "## Set effect header to LOG(OR) ...\n",
    "SCHEME STDERR\n",
    "## Meta-analysis will be based on sample sizes, p-values and direction of effect ...\n",
    "STDERR LOG(OR)_SE\n",
    "## Set standard error header to LOG(OR)_SE ...\n",
    "PVALUE P\n",
    "## Set p-value header to P ...\n",
    "PROCESSFILE allofus_eur_sumstat\n",
    "###########################################################################\n",
    "## Processing file 'allofus_eur_sumstat'\n",
    "## Processed 10047826 markers ...\n",
    "\n",
    "EFFECTLABEL BETA\n",
    "STDERR SE\n",
    "PROCESSFILE EUR_GCST90475829_filt_filt_BETASE_markername\n",
    "###########################################################################\n",
    "## Processing file 'MVA_EUR_with_CI_markername_h.fixed_confadded_maf_logseadded'\n",
    "## Processed 9318451 markers ...\n",
    "\n",
    "STDERR LOG(OR)_SE\n",
    "EFFECTLABEL LOG(OR)\n",
    "## Set standard error header to LOG(OR)_SE ...\n",
    "PROCESSFILE cartagene_eur_sumstat_cols\n",
    "###########################################################################\n",
    "## Processing file 'cartagene_eur_sumstat_cols'\n",
    "## Processed 10133785 markers ...\n",
    " \n",
    "PROCESSFILE clsa_eur_sumstat\n",
    "###########################################################################\n",
    "## Processing file 'clsa_eur_sumstat'\n",
    "## Processed 10214384 markers ...\n",
    " \n",
    "## Set weight header to OBS_CT ...\n",
    "PROCESSFILE rls_ukb_eur_sumstat\n",
    "###########################################################################\n",
    "## Processing file 'rls_ukb_eur_sumstat'\n",
    "## Processed 10296342 markers ...\n",
    " \n",
    "OUTFILE  AUG2025_EUR_META1 .tbl\n",
    "ANALYZE HETEROGENEITY"
   ]
  },
  {
   "cell_type": "markdown",
   "id": "ec90ff2c-9164-46d2-addb-608c68d41b20",
   "metadata": {},
   "source": [
    "#### African meta-analysis"
   ]
  },
  {
   "cell_type": "code",
   "execution_count": null,
   "id": "10dabeba-d78d-4eab-a594-258cf8a18df5",
   "metadata": {},
   "outputs": [],
   "source": [
    "#African\n",
    "MARKERLABEL MARKERNAME\n",
    "## Set marker header to MARKERNAME ...\n",
    "ALLELELABELS ALT REF\n",
    "## Set allele headers to EA and NEA ...\n",
    "EFFECTLABEL LOG(OR)\n",
    "## Set effect header to OR ...\n",
    "SCHEME STDERR\n",
    "## Meta-analysis will be based on effect sizes and their standard errors ...\n",
    "STDERR LOG(OR)_SE\n",
    "## Set standard error header to LOG(OR)_SE ...\n",
    "PVALUE P\n",
    "## Set p-value header to P ...\n",
    "PROCESSFILE allofus_afr_sumstat\n",
    "##########################################################################\n",
    "PROCESSFILE AFR_GCST90477503_filt_BETASE_markername\n",
    "\n",
    "OUTFILE AUG2025_AFR_META1 .tbl                   \n",
    "ANALYZE HETEROGENEITY "
   ]
  },
  {
   "cell_type": "markdown",
   "id": "1481158d-cfb9-4185-bd2c-d328060a976b",
   "metadata": {},
   "source": [
    "#### Latin American meta-analysis"
   ]
  },
  {
   "cell_type": "code",
   "execution_count": null,
   "id": "e7407691-9ecc-43bf-a876-141d13048343",
   "metadata": {},
   "outputs": [],
   "source": [
    "MARKERLABEL MARKERNAME\n",
    "## Set marker header to MARKERNAME ...\n",
    "ALLELELABELS EA NEA\n",
    "## Set allele headers to ALT and REF ...\n",
    "EFFECTLABEL LOG(OR)\n",
    "## Set effect header to LOG(OR) ...\n",
    "SCHEME STDERR\n",
    "## Meta-analysis will be based on effect sizes and their standard errors ...\n",
    "STDERR LOG(OR)_SE\n",
    "## Set standard error header to LOG(OR)_SE ...\n",
    "PVALUE P\n",
    "## Set p-value header to P ...\n",
    "PROCESSFILE allofus_amr_sumstat\n",
    "##########################################################################\n",
    "PROCESSFILE GCST90475828_filt_BETASE_pos_markeradd\n",
    "\n",
    "OUTFILE AUG2025_AMR_META1 .tbl                  \n",
    "ANALYZE HETEROGENEITY"
   ]
  }
 ],
 "metadata": {
  "kernelspec": {
   "display_name": "Bash",
   "language": "bash",
   "name": "bash"
  },
  "language_info": {
   "codemirror_mode": "shell",
   "file_extension": ".sh",
   "mimetype": "text/x-sh",
   "name": "bash"
  }
 },
 "nbformat": 4,
 "nbformat_minor": 5
}
