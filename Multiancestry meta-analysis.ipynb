{
 "cells": [
  {
   "cell_type": "markdown",
   "id": "8cdc1323-5d04-41e2-95ae-f58b6ef425bb",
   "metadata": {},
   "source": [
    "### MRMEGA"
   ]
  },
  {
   "cell_type": "markdown",
   "id": "abede883-8bdf-4782-9f11-05484ddfb1af",
   "metadata": {},
   "source": [
    "#### Post QC on Million Veteran Program GWAS included filtering out unrealistic standard errors (SE)\n",
    "#### Filter out 0.99>MAF>0.01 and unrealistic SE variants"
   ]
  },
  {
   "cell_type": "code",
   "execution_count": null,
   "id": "e1a623cc-3da6-4939-b1dd-bbbba86e1101",
   "metadata": {},
   "outputs": [],
   "source": [
    "zcat GCST90477503.tsv.gz | awk 'BEGIN{FS=OFS=\"\\t\"} NR==1{print;next} $5!=\"#NA\" && $10!=\"#NA\" && $11!=\"#NA\" && ($5+0>0) && ($10+0>0) && ($11+0>0) && ($11+0 < $5+0 && $5+0 < $10+0) && ($5+0>=0.01 && $5+0<=5) && ($10+0>=0.01 && $10+0<=5) && ($11+0>=0.01 && $11+0<5) && ($7==\"\" || ($7+0>=0.009 && $7+0<=0.991)) {print}' | gzip -c > GCST90477503_filt.gz\n",
    "\n",
    "zcat GCST90475828.tsv.gz | awk 'BEGIN{FS=OFS=\"\\t\"} NR==1{print;next} $5!=\"#NA\" && $10!=\"#NA\" && $11!=\"#NA\" && ($5+0>0) && ($10+0>0) && ($11+0>0) && ($11+0 < $5+0 && $5+0 < $10+0) && ($5+0>=0.01 && $5+0<=5) && ($10+0>=0.01 && $10+0<=5) && ($11+0>=0.01 && $11+0<5) && ($7==\"\" || ($7+0>=0.009 && $7+0<=0.991)) {print}' | gzip -c > GCST90475828_filt.gz\n",
    "\n",
    "zcat GCST90475829.tsv.gz | awk 'BEGIN{FS=OFS=\"\\t\"} NR==1{print;next} $5!=\"#NA\" && $10!=\"#NA\" && $11!=\"#NA\" && ($5+0>0) && ($10+0>0) && ($11+0>0) && ($11+0 < $5+0 && $5+0 < $10+0) && ($5+0>=0.01 && $5+0<=5) && ($10+0>=0.01 && $10+0<=5) && ($11+0>=0.01 && $11+0<5) && ($7==\"\" || ($7+0>=0.009 && $7+0<=0.991)) {print}' | gzip -c > GCST90475829_filt.gz"
   ]
  },
  {
   "cell_type": "markdown",
   "id": "cbbd681c-b10c-4c39-9f42-4fc150ce23b0",
   "metadata": {},
   "source": [
    "#### Annotate markername and EAF in MVP GWAS data"
   ]
  },
  {
   "cell_type": "code",
   "execution_count": null,
   "id": "30ccd1b8-5fda-46f8-955d-5ab75973bff6",
   "metadata": {},
   "outputs": [],
   "source": [
    "awk -F'\\t' 'NR==FNR { if(NR>1) m[$1]=$2; next }\n",
    "            FNR==1   { print $0 FS \"EAF\"; next }\n",
    "                     { print $0 FS ( ($1 in m)?m[$1]:\"NA\") }'   <(zcat GCST90477503_filt.gz | cut -f7,9 | awk -F'\\t' '{print $2\"\\t\"$1}')   AFR_GCST90477503_filt_BETASE_markername | gzip -c > AFR_GCST90477503_filt_BETASE_markername_EAFforMEGA.gz\n",
    "\n",
    "awk -F'\\t' 'NR==FNR { if(NR>1) m[$1]=$2; next }\n",
    "            FNR==1   { print $0 FS \"EAF\"; next }\n",
    "                     { print $0 FS ( ($1 in m)?m[$1]:\"NA\") }'   <(zcat GCST90475828_filt.gz | cut -f7,9 | awk -F'\\t' '{print $2\"\\t\"$1}')   GCST90475828_filt_BETASE_pos_markeradd | gzip -c > GCST90475828_filt_BETASE_pos_markeradd_amr_EAF_formrmega.gz\n",
    "\n",
    "awk -F'\\t' 'NR==FNR { if(NR>1) m[$1]=$2; next }\n",
    "            FNR==1   { print $0 FS \"EAF\"; next }\n",
    "                     { print $0 FS ( ($1 in m)?m[$1]:\"NA\") }'   <(zcat GCST90475829_filt.gz | cut -f7,9 | awk -F'\\t' '{print $2\"\\t\"$1}')  EUR_GCST90475829_filt_filt_BETASE_markername | gzip -c > EUR_GCST90475829_filt_filt_BETASE_markername_eaf_formrmega.gz"
   ]
  },
  {
   "cell_type": "markdown",
   "id": "753b5c45-3e3d-4bfd-9a1f-447ed8a823c7",
   "metadata": {},
   "source": [
    "#### MRMEGA input file"
   ]
  },
  {
   "cell_type": "code",
   "execution_count": 1,
   "id": "c436edbd-5cb2-466e-830c-b0619ff111e0",
   "metadata": {},
   "outputs": [
    {
     "name": "stdout",
     "output_type": "stream",
     "text": [
      "rls_ukb_eur_sumstat_ci.gz\n",
      "allofus_afr_sumstat.gz\n",
      "allofus_amr_sumstat.gz\n",
      "allofus_eur_sumstat.gz\n",
      "cartagene_eur_sumstat_cols.gz\n",
      "clsa_eur_sumstat.gz\n",
      "AFR_GCST90477503_filt_BETASE_markername_EAFforMEGA_pos.gz\n",
      "GCST90475828_filt_BETASE_pos_markeradd_amr_EAF_formrmega_pos.gz\n",
      "EUR_GCST90475829_filt_filt_BETASE_markername_eaf_formrmega_pos.gz\n"
     ]
    }
   ],
   "source": [
    "cat MR-MEGA.in"
   ]
  },
  {
   "cell_type": "markdown",
   "id": "27f3db96-f09b-4ca2-8fb1-c2134859091a",
   "metadata": {},
   "source": [
    "#### Running MRMEGA"
   ]
  },
  {
   "cell_type": "code",
   "execution_count": null,
   "id": "8a774b00-c5fc-4483-b199-3293023ceae3",
   "metadata": {},
   "outputs": [],
   "source": [
    "./MR-MEGA -i MR-MEGA.in --pc 3 -o AUGS2025_MRMEGA_pc"
   ]
  },
  {
   "cell_type": "markdown",
   "id": "1dfbb252-b3b3-4ae4-8b26-1fdb21ce18f8",
   "metadata": {},
   "source": [
    "### PLINK RANDOM EFFECT"
   ]
  },
  {
   "cell_type": "code",
   "execution_count": null,
   "id": "9b46cc88-895c-445f-97fc-320d273bb5a3",
   "metadata": {},
   "outputs": [],
   "source": [
    "plink --meta-analysis allofus_afr allofus_amr allofus_eur cartagene_eur clsa_eur mva_afr mva_amr mva_eur ukb_forplink + logscale study qt \\\n",
    "--out RLS_multirandomeff\n",
    "\n",
    "--meta-analysis: 13506491 variants processed; results written to\n",
    "RLS_multirandomeff.meta\n",
    "\n",
    "awk -F'\\t' 'BEGIN{OFS=\"\\t\"} NR==1 || $6 >= 3' RLS_multirandomeff.meta > RLS_multirandomeff.meta_min3study\n",
    "gzip -c RLS_multirandomeff.meta_min3study > RLS_multirandomeff.meta_min3study_gwaslab.gz"
   ]
  }
 ],
 "metadata": {
  "kernelspec": {
   "display_name": "Bash",
   "language": "bash",
   "name": "bash"
  },
  "language_info": {
   "codemirror_mode": "shell",
   "file_extension": ".sh",
   "mimetype": "text/x-sh",
   "name": "bash"
  }
 },
 "nbformat": 4,
 "nbformat_minor": 5
}
